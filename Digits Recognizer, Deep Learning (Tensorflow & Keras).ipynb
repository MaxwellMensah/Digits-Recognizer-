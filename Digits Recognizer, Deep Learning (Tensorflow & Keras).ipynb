{
 "cells": [
  {
   "cell_type": "code",
   "execution_count": 1,
   "id": "3e770187",
   "metadata": {},
   "outputs": [
    {
     "name": "stdout",
     "output_type": "stream",
     "text": [
      "Tensorflow version 2.6.0\n"
     ]
    }
   ],
   "source": [
    "import numpy as np\n",
    "import pandas as pd\n",
    "import matplotlib.pyplot as plt\n",
    "import tensorflow as tf\n",
    "from tensorflow.keras.models import Sequential\n",
    "from tensorflow.keras.layers import Dense, Dropout, Flatten\n",
    "print(\"Tensorflow version\", tf.__version__)"
   ]
  },
  {
   "cell_type": "code",
   "execution_count": 2,
   "id": "edb8b856",
   "metadata": {},
   "outputs": [
    {
     "data": {
      "text/html": [
       "<div>\n",
       "<style scoped>\n",
       "    .dataframe tbody tr th:only-of-type {\n",
       "        vertical-align: middle;\n",
       "    }\n",
       "\n",
       "    .dataframe tbody tr th {\n",
       "        vertical-align: top;\n",
       "    }\n",
       "\n",
       "    .dataframe thead th {\n",
       "        text-align: right;\n",
       "    }\n",
       "</style>\n",
       "<table border=\"1\" class=\"dataframe\">\n",
       "  <thead>\n",
       "    <tr style=\"text-align: right;\">\n",
       "      <th></th>\n",
       "      <th>label</th>\n",
       "      <th>pixel0</th>\n",
       "      <th>pixel1</th>\n",
       "      <th>pixel2</th>\n",
       "      <th>pixel3</th>\n",
       "      <th>pixel4</th>\n",
       "      <th>pixel5</th>\n",
       "      <th>pixel6</th>\n",
       "      <th>pixel7</th>\n",
       "      <th>pixel8</th>\n",
       "      <th>...</th>\n",
       "      <th>pixel774</th>\n",
       "      <th>pixel775</th>\n",
       "      <th>pixel776</th>\n",
       "      <th>pixel777</th>\n",
       "      <th>pixel778</th>\n",
       "      <th>pixel779</th>\n",
       "      <th>pixel780</th>\n",
       "      <th>pixel781</th>\n",
       "      <th>pixel782</th>\n",
       "      <th>pixel783</th>\n",
       "    </tr>\n",
       "  </thead>\n",
       "  <tbody>\n",
       "    <tr>\n",
       "      <th>0</th>\n",
       "      <td>1</td>\n",
       "      <td>0</td>\n",
       "      <td>0</td>\n",
       "      <td>0</td>\n",
       "      <td>0</td>\n",
       "      <td>0</td>\n",
       "      <td>0</td>\n",
       "      <td>0</td>\n",
       "      <td>0</td>\n",
       "      <td>0</td>\n",
       "      <td>...</td>\n",
       "      <td>0</td>\n",
       "      <td>0</td>\n",
       "      <td>0</td>\n",
       "      <td>0</td>\n",
       "      <td>0</td>\n",
       "      <td>0</td>\n",
       "      <td>0</td>\n",
       "      <td>0</td>\n",
       "      <td>0</td>\n",
       "      <td>0</td>\n",
       "    </tr>\n",
       "    <tr>\n",
       "      <th>1</th>\n",
       "      <td>0</td>\n",
       "      <td>0</td>\n",
       "      <td>0</td>\n",
       "      <td>0</td>\n",
       "      <td>0</td>\n",
       "      <td>0</td>\n",
       "      <td>0</td>\n",
       "      <td>0</td>\n",
       "      <td>0</td>\n",
       "      <td>0</td>\n",
       "      <td>...</td>\n",
       "      <td>0</td>\n",
       "      <td>0</td>\n",
       "      <td>0</td>\n",
       "      <td>0</td>\n",
       "      <td>0</td>\n",
       "      <td>0</td>\n",
       "      <td>0</td>\n",
       "      <td>0</td>\n",
       "      <td>0</td>\n",
       "      <td>0</td>\n",
       "    </tr>\n",
       "    <tr>\n",
       "      <th>2</th>\n",
       "      <td>1</td>\n",
       "      <td>0</td>\n",
       "      <td>0</td>\n",
       "      <td>0</td>\n",
       "      <td>0</td>\n",
       "      <td>0</td>\n",
       "      <td>0</td>\n",
       "      <td>0</td>\n",
       "      <td>0</td>\n",
       "      <td>0</td>\n",
       "      <td>...</td>\n",
       "      <td>0</td>\n",
       "      <td>0</td>\n",
       "      <td>0</td>\n",
       "      <td>0</td>\n",
       "      <td>0</td>\n",
       "      <td>0</td>\n",
       "      <td>0</td>\n",
       "      <td>0</td>\n",
       "      <td>0</td>\n",
       "      <td>0</td>\n",
       "    </tr>\n",
       "    <tr>\n",
       "      <th>3</th>\n",
       "      <td>4</td>\n",
       "      <td>0</td>\n",
       "      <td>0</td>\n",
       "      <td>0</td>\n",
       "      <td>0</td>\n",
       "      <td>0</td>\n",
       "      <td>0</td>\n",
       "      <td>0</td>\n",
       "      <td>0</td>\n",
       "      <td>0</td>\n",
       "      <td>...</td>\n",
       "      <td>0</td>\n",
       "      <td>0</td>\n",
       "      <td>0</td>\n",
       "      <td>0</td>\n",
       "      <td>0</td>\n",
       "      <td>0</td>\n",
       "      <td>0</td>\n",
       "      <td>0</td>\n",
       "      <td>0</td>\n",
       "      <td>0</td>\n",
       "    </tr>\n",
       "    <tr>\n",
       "      <th>4</th>\n",
       "      <td>0</td>\n",
       "      <td>0</td>\n",
       "      <td>0</td>\n",
       "      <td>0</td>\n",
       "      <td>0</td>\n",
       "      <td>0</td>\n",
       "      <td>0</td>\n",
       "      <td>0</td>\n",
       "      <td>0</td>\n",
       "      <td>0</td>\n",
       "      <td>...</td>\n",
       "      <td>0</td>\n",
       "      <td>0</td>\n",
       "      <td>0</td>\n",
       "      <td>0</td>\n",
       "      <td>0</td>\n",
       "      <td>0</td>\n",
       "      <td>0</td>\n",
       "      <td>0</td>\n",
       "      <td>0</td>\n",
       "      <td>0</td>\n",
       "    </tr>\n",
       "  </tbody>\n",
       "</table>\n",
       "<p>5 rows × 785 columns</p>\n",
       "</div>"
      ],
      "text/plain": [
       "   label  pixel0  pixel1  pixel2  pixel3  pixel4  pixel5  pixel6  pixel7  \\\n",
       "0      1       0       0       0       0       0       0       0       0   \n",
       "1      0       0       0       0       0       0       0       0       0   \n",
       "2      1       0       0       0       0       0       0       0       0   \n",
       "3      4       0       0       0       0       0       0       0       0   \n",
       "4      0       0       0       0       0       0       0       0       0   \n",
       "\n",
       "   pixel8  ...  pixel774  pixel775  pixel776  pixel777  pixel778  pixel779  \\\n",
       "0       0  ...         0         0         0         0         0         0   \n",
       "1       0  ...         0         0         0         0         0         0   \n",
       "2       0  ...         0         0         0         0         0         0   \n",
       "3       0  ...         0         0         0         0         0         0   \n",
       "4       0  ...         0         0         0         0         0         0   \n",
       "\n",
       "   pixel780  pixel781  pixel782  pixel783  \n",
       "0         0         0         0         0  \n",
       "1         0         0         0         0  \n",
       "2         0         0         0         0  \n",
       "3         0         0         0         0  \n",
       "4         0         0         0         0  \n",
       "\n",
       "[5 rows x 785 columns]"
      ]
     },
     "execution_count": 2,
     "metadata": {},
     "output_type": "execute_result"
    }
   ],
   "source": [
    "train = pd.read_csv(\"train.csv\")\n",
    "train.head()"
   ]
  },
  {
   "cell_type": "code",
   "execution_count": 3,
   "id": "9d6ff08c",
   "metadata": {},
   "outputs": [
    {
     "data": {
      "text/html": [
       "<div>\n",
       "<style scoped>\n",
       "    .dataframe tbody tr th:only-of-type {\n",
       "        vertical-align: middle;\n",
       "    }\n",
       "\n",
       "    .dataframe tbody tr th {\n",
       "        vertical-align: top;\n",
       "    }\n",
       "\n",
       "    .dataframe thead th {\n",
       "        text-align: right;\n",
       "    }\n",
       "</style>\n",
       "<table border=\"1\" class=\"dataframe\">\n",
       "  <thead>\n",
       "    <tr style=\"text-align: right;\">\n",
       "      <th></th>\n",
       "      <th>pixel0</th>\n",
       "      <th>pixel1</th>\n",
       "      <th>pixel2</th>\n",
       "      <th>pixel3</th>\n",
       "      <th>pixel4</th>\n",
       "      <th>pixel5</th>\n",
       "      <th>pixel6</th>\n",
       "      <th>pixel7</th>\n",
       "      <th>pixel8</th>\n",
       "      <th>pixel9</th>\n",
       "      <th>...</th>\n",
       "      <th>pixel774</th>\n",
       "      <th>pixel775</th>\n",
       "      <th>pixel776</th>\n",
       "      <th>pixel777</th>\n",
       "      <th>pixel778</th>\n",
       "      <th>pixel779</th>\n",
       "      <th>pixel780</th>\n",
       "      <th>pixel781</th>\n",
       "      <th>pixel782</th>\n",
       "      <th>pixel783</th>\n",
       "    </tr>\n",
       "  </thead>\n",
       "  <tbody>\n",
       "    <tr>\n",
       "      <th>0</th>\n",
       "      <td>0</td>\n",
       "      <td>0</td>\n",
       "      <td>0</td>\n",
       "      <td>0</td>\n",
       "      <td>0</td>\n",
       "      <td>0</td>\n",
       "      <td>0</td>\n",
       "      <td>0</td>\n",
       "      <td>0</td>\n",
       "      <td>0</td>\n",
       "      <td>...</td>\n",
       "      <td>0</td>\n",
       "      <td>0</td>\n",
       "      <td>0</td>\n",
       "      <td>0</td>\n",
       "      <td>0</td>\n",
       "      <td>0</td>\n",
       "      <td>0</td>\n",
       "      <td>0</td>\n",
       "      <td>0</td>\n",
       "      <td>0</td>\n",
       "    </tr>\n",
       "    <tr>\n",
       "      <th>1</th>\n",
       "      <td>0</td>\n",
       "      <td>0</td>\n",
       "      <td>0</td>\n",
       "      <td>0</td>\n",
       "      <td>0</td>\n",
       "      <td>0</td>\n",
       "      <td>0</td>\n",
       "      <td>0</td>\n",
       "      <td>0</td>\n",
       "      <td>0</td>\n",
       "      <td>...</td>\n",
       "      <td>0</td>\n",
       "      <td>0</td>\n",
       "      <td>0</td>\n",
       "      <td>0</td>\n",
       "      <td>0</td>\n",
       "      <td>0</td>\n",
       "      <td>0</td>\n",
       "      <td>0</td>\n",
       "      <td>0</td>\n",
       "      <td>0</td>\n",
       "    </tr>\n",
       "    <tr>\n",
       "      <th>2</th>\n",
       "      <td>0</td>\n",
       "      <td>0</td>\n",
       "      <td>0</td>\n",
       "      <td>0</td>\n",
       "      <td>0</td>\n",
       "      <td>0</td>\n",
       "      <td>0</td>\n",
       "      <td>0</td>\n",
       "      <td>0</td>\n",
       "      <td>0</td>\n",
       "      <td>...</td>\n",
       "      <td>0</td>\n",
       "      <td>0</td>\n",
       "      <td>0</td>\n",
       "      <td>0</td>\n",
       "      <td>0</td>\n",
       "      <td>0</td>\n",
       "      <td>0</td>\n",
       "      <td>0</td>\n",
       "      <td>0</td>\n",
       "      <td>0</td>\n",
       "    </tr>\n",
       "    <tr>\n",
       "      <th>3</th>\n",
       "      <td>0</td>\n",
       "      <td>0</td>\n",
       "      <td>0</td>\n",
       "      <td>0</td>\n",
       "      <td>0</td>\n",
       "      <td>0</td>\n",
       "      <td>0</td>\n",
       "      <td>0</td>\n",
       "      <td>0</td>\n",
       "      <td>0</td>\n",
       "      <td>...</td>\n",
       "      <td>0</td>\n",
       "      <td>0</td>\n",
       "      <td>0</td>\n",
       "      <td>0</td>\n",
       "      <td>0</td>\n",
       "      <td>0</td>\n",
       "      <td>0</td>\n",
       "      <td>0</td>\n",
       "      <td>0</td>\n",
       "      <td>0</td>\n",
       "    </tr>\n",
       "    <tr>\n",
       "      <th>4</th>\n",
       "      <td>0</td>\n",
       "      <td>0</td>\n",
       "      <td>0</td>\n",
       "      <td>0</td>\n",
       "      <td>0</td>\n",
       "      <td>0</td>\n",
       "      <td>0</td>\n",
       "      <td>0</td>\n",
       "      <td>0</td>\n",
       "      <td>0</td>\n",
       "      <td>...</td>\n",
       "      <td>0</td>\n",
       "      <td>0</td>\n",
       "      <td>0</td>\n",
       "      <td>0</td>\n",
       "      <td>0</td>\n",
       "      <td>0</td>\n",
       "      <td>0</td>\n",
       "      <td>0</td>\n",
       "      <td>0</td>\n",
       "      <td>0</td>\n",
       "    </tr>\n",
       "  </tbody>\n",
       "</table>\n",
       "<p>5 rows × 784 columns</p>\n",
       "</div>"
      ],
      "text/plain": [
       "   pixel0  pixel1  pixel2  pixel3  pixel4  pixel5  pixel6  pixel7  pixel8  \\\n",
       "0       0       0       0       0       0       0       0       0       0   \n",
       "1       0       0       0       0       0       0       0       0       0   \n",
       "2       0       0       0       0       0       0       0       0       0   \n",
       "3       0       0       0       0       0       0       0       0       0   \n",
       "4       0       0       0       0       0       0       0       0       0   \n",
       "\n",
       "   pixel9  ...  pixel774  pixel775  pixel776  pixel777  pixel778  pixel779  \\\n",
       "0       0  ...         0         0         0         0         0         0   \n",
       "1       0  ...         0         0         0         0         0         0   \n",
       "2       0  ...         0         0         0         0         0         0   \n",
       "3       0  ...         0         0         0         0         0         0   \n",
       "4       0  ...         0         0         0         0         0         0   \n",
       "\n",
       "   pixel780  pixel781  pixel782  pixel783  \n",
       "0         0         0         0         0  \n",
       "1         0         0         0         0  \n",
       "2         0         0         0         0  \n",
       "3         0         0         0         0  \n",
       "4         0         0         0         0  \n",
       "\n",
       "[5 rows x 784 columns]"
      ]
     },
     "execution_count": 3,
     "metadata": {},
     "output_type": "execute_result"
    }
   ],
   "source": [
    "test = pd.read_csv('test.csv')\n",
    "test.head()"
   ]
  },
  {
   "cell_type": "code",
   "execution_count": 4,
   "id": "95589576",
   "metadata": {},
   "outputs": [
    {
     "data": {
      "text/plain": [
       "array([1, 0, 4, 7, 3, 5, 8, 9, 2, 6], dtype=int64)"
      ]
     },
     "execution_count": 4,
     "metadata": {},
     "output_type": "execute_result"
    }
   ],
   "source": [
    "train['label'].unique()"
   ]
  },
  {
   "cell_type": "code",
   "execution_count": 5,
   "id": "79ca9dd8",
   "metadata": {},
   "outputs": [
    {
     "data": {
      "text/plain": [
       "(42000, 785)"
      ]
     },
     "execution_count": 5,
     "metadata": {},
     "output_type": "execute_result"
    }
   ],
   "source": [
    "train.shape"
   ]
  },
  {
   "cell_type": "code",
   "execution_count": 6,
   "id": "65673561",
   "metadata": {},
   "outputs": [
    {
     "name": "stdout",
     "output_type": "stream",
     "text": [
      "Q: Are there any missing values in training data? \n",
      "A: False\n"
     ]
    }
   ],
   "source": [
    "print(\"Q: Are there any missing values in training data?\", \"\\n\" +\n",
    "      \"A: {}\".format(train.isna().values.any()))"
   ]
  },
  {
   "cell_type": "code",
   "execution_count": 7,
   "id": "43d482d5",
   "metadata": {},
   "outputs": [
    {
     "name": "stdout",
     "output_type": "stream",
     "text": [
      "<class 'pandas.core.frame.DataFrame'>\n",
      "RangeIndex: 42000 entries, 0 to 41999\n",
      "Columns: 785 entries, label to pixel783\n",
      "dtypes: int64(785)\n",
      "memory usage: 251.5 MB\n"
     ]
    }
   ],
   "source": [
    "train.info()"
   ]
  },
  {
   "cell_type": "code",
   "execution_count": 8,
   "id": "2976e2f2",
   "metadata": {},
   "outputs": [],
   "source": [
    "# Extract features\n",
    "features = train.drop('label', axis=1)\n",
    "\n",
    "# Extract label\n",
    "label = train['label']"
   ]
  },
  {
   "cell_type": "code",
   "execution_count": 9,
   "id": "cf4622c9",
   "metadata": {},
   "outputs": [],
   "source": [
    "# Train images\n",
    "features = np.array(features)"
   ]
  },
  {
   "cell_type": "code",
   "execution_count": 10,
   "id": "bb3e3d93",
   "metadata": {},
   "outputs": [
    {
     "data": {
      "text/plain": [
       "(42000, 784)"
      ]
     },
     "execution_count": 10,
     "metadata": {},
     "output_type": "execute_result"
    }
   ],
   "source": [
    "features.shape"
   ]
  },
  {
   "cell_type": "code",
   "execution_count": 11,
   "id": "4853c78a",
   "metadata": {},
   "outputs": [],
   "source": [
    "features_reshaped = features.reshape(42000, 28, 28)  # it 28, 28  because 28 X 28 = 784!"
   ]
  },
  {
   "cell_type": "code",
   "execution_count": 12,
   "id": "46c5c926",
   "metadata": {},
   "outputs": [
    {
     "data": {
      "text/plain": [
       "(28000, 784)"
      ]
     },
     "execution_count": 12,
     "metadata": {},
     "output_type": "execute_result"
    }
   ],
   "source": [
    "# Test images\n",
    "test = np.array(test)\n",
    "test.shape"
   ]
  },
  {
   "cell_type": "code",
   "execution_count": 13,
   "id": "662dfed3",
   "metadata": {},
   "outputs": [
    {
     "name": "stdout",
     "output_type": "stream",
     "text": [
      "Training Dataset Shape: (42000, 28, 28)\n",
      "\n",
      "Testing Dataset Shape: (28000, 784)\n"
     ]
    }
   ],
   "source": [
    "print('Training Dataset Shape: {}'.format(features_reshaped.shape))\n",
    "print()\n",
    "print('Testing Dataset Shape: {}'.format(test.shape))         # We will hold on the test dataset for now ..."
   ]
  },
  {
   "cell_type": "code",
   "execution_count": 14,
   "id": "56fabc20",
   "metadata": {},
   "outputs": [
    {
     "data": {
      "text/plain": [
       "0"
      ]
     },
     "execution_count": 14,
     "metadata": {},
     "output_type": "execute_result"
    }
   ],
   "source": [
    "np.min(features_reshaped)"
   ]
  },
  {
   "cell_type": "code",
   "execution_count": 15,
   "id": "c3b4a0ea",
   "metadata": {},
   "outputs": [
    {
     "data": {
      "text/plain": [
       "255"
      ]
     },
     "execution_count": 15,
     "metadata": {},
     "output_type": "execute_result"
    }
   ],
   "source": [
    "np.max(features_reshaped)"
   ]
  },
  {
   "cell_type": "code",
   "execution_count": 16,
   "id": "672fc06b",
   "metadata": {},
   "outputs": [
    {
     "data": {
      "image/png": "[encoded data removed]",
      "text/plain": [
       "<Figure size 432x288 with 2 Axes>"
      ]
     },
     "metadata": {
      "needs_background": "light"
     },
     "output_type": "display_data"
    }
   ],
   "source": [
    "plt.figure()\n",
    "plt.imshow(features_reshaped[0])\n",
    "plt.colorbar()\n",
    "plt.show()"
   ]
  },
  {
   "cell_type": "code",
   "execution_count": 17,
   "id": "da062ec1",
   "metadata": {},
   "outputs": [],
   "source": [
    "features_norm = features_reshaped / 255.0        # Scaled from [0 to 1]"
   ]
  },
  {
   "cell_type": "code",
   "execution_count": 18,
   "id": "93d625fc",
   "metadata": {},
   "outputs": [
    {
     "data": {
      "image/png": "[encoded data removed]",
      "text/plain": [
       "<Figure size 432x288 with 2 Axes>"
      ]
     },
     "metadata": {
      "needs_background": "light"
     },
     "output_type": "display_data"
    }
   ],
   "source": [
    "plt.figure()\n",
    "plt.imshow(features_norm[0])\n",
    "plt.colorbar()\n",
    "plt.show()"
   ]
  },
  {
   "cell_type": "code",
   "execution_count": 19,
   "id": "1203c037",
   "metadata": {},
   "outputs": [
    {
     "data": {
      "image/png": "[encoded data removed]",
      "text/plain": [
       "<Figure size 1152x360 with 18 Axes>"
      ]
     },
     "metadata": {},
     "output_type": "display_data"
    }
   ],
   "source": [
    "fig = plt.figure(figsize=(16,5))\n",
    "\n",
    "for images in range(18):\n",
    "    fig.add_subplot(3, 6, images+1)\n",
    "    plt.xticks([])\n",
    "    plt.yticks([])\n",
    "    plt.imshow(features_norm[images], cmap=\"gray\")\n",
    "    plt.xlabel('Digit: ' + str(label[images]))\n",
    "    plt.tight_layout() # to see clear graph\n",
    "plt.show();"
   ]
  },
  {
   "cell_type": "code",
   "execution_count": 20,
   "id": "41e21474",
   "metadata": {},
   "outputs": [
    {
     "data": {
      "text/plain": [
       "(42000, 28, 28)"
      ]
     },
     "execution_count": 20,
     "metadata": {},
     "output_type": "execute_result"
    }
   ],
   "source": [
    "features_norm.shape"
   ]
  },
  {
   "cell_type": "code",
   "execution_count": 21,
   "id": "61477bd5",
   "metadata": {},
   "outputs": [],
   "source": [
    "X = features_norm\n",
    "y = label"
   ]
  },
  {
   "cell_type": "code",
   "execution_count": 22,
   "id": "fce99097",
   "metadata": {},
   "outputs": [
    {
     "data": {
      "text/plain": [
       "((33600, 28, 28), (8400, 28, 28), (33600,), (8400,))"
      ]
     },
     "execution_count": 22,
     "metadata": {},
     "output_type": "execute_result"
    }
   ],
   "source": [
    "# Split into train and test sets\n",
    "from sklearn.model_selection import train_test_split\n",
    "X_train, X_valid, y_train, y_valid = train_test_split(X, y, test_size=.2, random_state=42)\n",
    "X_train.shape, X_valid.shape, y_train.shape, y_valid.shape"
   ]
  },
  {
   "cell_type": "code",
   "execution_count": 23,
   "id": "a6afd81a",
   "metadata": {},
   "outputs": [],
   "source": [
    "# We can get our training and testing data between 0 & 1 by dividing by the maximum \n",
    "test_norm = test / 255.0\n",
    "X_train = X_train.reshape(X_train.shape[0], 28, 28,1)\n",
    "X_valid = X_valid.reshape(X_valid.shape[0], 28, 28,1)"
   ]
  },
  {
   "cell_type": "code",
   "execution_count": 24,
   "id": "ee4d7b5c",
   "metadata": {},
   "outputs": [
    {
     "name": "stdout",
     "output_type": "stream",
     "text": [
      "Epoch 1/30\n"
     ]
    },
    {
     "name": "stderr",
     "output_type": "stream",
     "text": [
      "C:\\Users\\Maxie\\anaconda3\\lib\\site-packages\\keras\\backend.py:4906: UserWarning: \"`sparse_categorical_crossentropy` received `from_logits=True`, but the `output` argument was produced by a sigmoid or softmax activation and thus does not represent logits. Was this intended?\"\n",
      "  warnings.warn(\n"
     ]
    },
    {
     "name": "stdout",
     "output_type": "stream",
     "text": [
      "672/672 [==============================] - 19s 24ms/step - loss: 0.2876 - accuracy: 0.9130\n",
      "Epoch 2/30\n",
      "672/672 [==============================] - 11s 16ms/step - loss: 0.1650 - accuracy: 0.95280s - loss: 0.1649 - accuracy: \n",
      "Epoch 3/30\n",
      "672/672 [==============================] - 14s 20ms/step - loss: 0.1446 - accuracy: 0.9605\n",
      "Epoch 4/30\n",
      "672/672 [==============================] - 13s 19ms/step - loss: 0.1254 - accuracy: 0.9651\n",
      "Epoch 5/30\n",
      "672/672 [==============================] - 12s 18ms/step - loss: 0.1163 - accuracy: 0.9691\n",
      "Epoch 6/30\n",
      "672/672 [==============================] - 12s 18ms/step - loss: 0.1041 - accuracy: 0.9722\n",
      "Epoch 7/30\n",
      "672/672 [==============================] - 12s 17ms/step - loss: 0.1045 - accuracy: 0.9724\n",
      "Epoch 8/30\n",
      "672/672 [==============================] - 12s 19ms/step - loss: 0.0938 - accuracy: 0.9762\n",
      "Epoch 9/30\n",
      "672/672 [==============================] - 12s 18ms/step - loss: 0.0925 - accuracy: 0.9769\n",
      "Epoch 10/30\n",
      "672/672 [==============================] - 13s 19ms/step - loss: 0.0816 - accuracy: 0.9800\n",
      "Epoch 11/30\n",
      "672/672 [==============================] - 13s 19ms/step - loss: 0.0857 - accuracy: 0.9787\n",
      "Epoch 12/30\n",
      "672/672 [==============================] - 13s 20ms/step - loss: 0.0813 - accuracy: 0.98013s - loss: 0 - ETA: 0s\n",
      "Epoch 13/30\n",
      "672/672 [==============================] - 16s 24ms/step - loss: 0.0858 - accuracy: 0.9801\n",
      "Epoch 14/30\n",
      "672/672 [==============================] - 15s 22ms/step - loss: 0.0681 - accuracy: 0.98330s - loss: 0.0683 - accuracy: 0. - ETA: 0s - loss: 0.0682 - accuracy: 0.98\n",
      "Epoch 15/30\n",
      "672/672 [==============================] - 13s 19ms/step - loss: 0.0711 - accuracy: 0.98320s - loss: 0.0719 - \n",
      "Epoch 16/30\n",
      "672/672 [==============================] - 9s 13ms/step - loss: 0.0709 - accuracy: 0.9830\n",
      "Epoch 17/30\n",
      "672/672 [==============================] - 9s 13ms/step - loss: 0.0676 - accuracy: 0.9844 \n",
      "Epoch 18/30\n",
      "672/672 [==============================] - 10s 15ms/step - loss: 0.0657 - accuracy: 0.9847\n",
      "Epoch 19/30\n",
      "672/672 [==============================] - 11s 17ms/step - loss: 0.0680 - accuracy: 0.9860\n",
      "Epoch 20/30\n",
      "672/672 [==============================] - 12s 18ms/step - loss: 0.0579 - accuracy: 0.98670s - loss: 0\n",
      "Epoch 21/30\n",
      "672/672 [==============================] - 12s 18ms/step - loss: 0.0729 - accuracy: 0.9849\n",
      "Epoch 22/30\n",
      "672/672 [==============================] - 11s 17ms/step - loss: 0.0594 - accuracy: 0.9871\n",
      "Epoch 23/30\n",
      "672/672 [==============================] - 9s 14ms/step - loss: 0.0622 - accuracy: 0.9876\n",
      "Epoch 24/30\n",
      "672/672 [==============================] - 10s 14ms/step - loss: 0.0651 - accuracy: 0.9857\n",
      "Epoch 25/30\n",
      "672/672 [==============================] - 10s 15ms/step - loss: 0.0687 - accuracy: 0.9859\n",
      "Epoch 26/30\n",
      "672/672 [==============================] - 10s 14ms/step - loss: 0.0570 - accuracy: 0.9872\n",
      "Epoch 27/30\n",
      "672/672 [==============================] - 10s 15ms/step - loss: 0.0496 - accuracy: 0.9896\n",
      "Epoch 28/30\n",
      "672/672 [==============================] - 10s 15ms/step - loss: 0.0569 - accuracy: 0.9888\n",
      "Epoch 29/30\n",
      "672/672 [==============================] - 10s 15ms/step - loss: 0.0882 - accuracy: 0.9841\n",
      "Epoch 30/30\n",
      "672/672 [==============================] - 10s 15ms/step - loss: 0.0635 - accuracy: 0.9875\n"
     ]
    }
   ],
   "source": [
    "# 1. Create the model\n",
    "model = tf.keras.Sequential([\n",
    "    tf.keras.layers.Flatten(input_shape=(28, 28)),\n",
    "    tf.keras.layers.Dense(512, activation=\"relu\"),  \n",
    "    tf.keras.layers.Dense(128, activation=\"relu\"),\n",
    "    tf.keras.layers.Dense(10, activation=\"softmax\")   # for multiclass classification,  #10 is the number of classes\n",
    "])\n",
    "\n",
    "\n",
    "\n",
    "#2 Compile the model\n",
    "model.compile(loss=tf.keras.losses.SparseCategoricalCrossentropy(from_logits=True),\n",
    "              optimizer=tf.keras.optimizers.Adam(learning_rate=0.01),\n",
    "              metrics=[\"accuracy\"])\n",
    "\n",
    "################################### excuse me please ###################################\n",
    "# Load the TensorBoard notebook extension\n",
    "import  datetime\n",
    "%load_ext tensorboard\n",
    "log_dir = \"logs/fit/\" + datetime.datetime.now().strftime(\"%Y%m%d-%H%M%S\")\n",
    "tensorboard_callback = tf.keras.callbacks.TensorBoard(log_dir=log_dir, histogram_freq=1)\n",
    "########################################################################################\n",
    "\n",
    "# 3. Fit the model\n",
    "history_data = model.fit(X_train, y_train, batch_size=50, epochs=30, callbacks=[tensorboard_callback])"
   ]
  },
  {
   "cell_type": "code",
   "execution_count": 25,
   "id": "9ebe9a7b",
   "metadata": {},
   "outputs": [
    {
     "name": "stdout",
     "output_type": "stream",
     "text": [
      "263/263 [==============================] - 2s 6ms/step - loss: 0.2996 - accuracy: 0.9675\n"
     ]
    },
    {
     "data": {
      "text/plain": [
       "[0.2995870113372803, 0.9674999713897705]"
      ]
     },
     "execution_count": 25,
     "metadata": {},
     "output_type": "execute_result"
    }
   ],
   "source": [
    "model.evaluate(X_valid, y_valid)"
   ]
  },
  {
   "cell_type": "code",
   "execution_count": 26,
   "id": "9c9eacf0",
   "metadata": {},
   "outputs": [
    {
     "data": {
      "image/png": "[encoded data removed]",
      "text/plain": [
       "<Figure size 720x432 with 1 Axes>"
      ]
     },
     "metadata": {
      "needs_background": "light"
     },
     "output_type": "display_data"
    }
   ],
   "source": [
    "# Plot the loss curves\n",
    "#plt.figure(figsize=(12, 6))\n",
    "pd.DataFrame(history_data.history).plot(figsize=(10, 6))\n",
    "plt.title(\"Model loss curve\")\n",
    "plt.show()"
   ]
  },
  {
   "cell_type": "code",
   "execution_count": 27,
   "id": "31305ffd",
   "metadata": {},
   "outputs": [
    {
     "name": "stdout",
     "output_type": "stream",
     "text": [
      "Model: \"sequential\"\n",
      "_________________________________________________________________\n",
      "Layer (type)                 Output Shape              Param #   \n",
      "=================================================================\n",
      "flatten (Flatten)            (None, 784)               0         \n",
      "_________________________________________________________________\n",
      "dense (Dense)                (None, 512)               401920    \n",
      "_________________________________________________________________\n",
      "dense_1 (Dense)              (None, 128)               65664     \n",
      "_________________________________________________________________\n",
      "dense_2 (Dense)              (None, 10)                1290      \n",
      "=================================================================\n",
      "Total params: 468,874\n",
      "Trainable params: 468,874\n",
      "Non-trainable params: 0\n",
      "_________________________________________________________________\n"
     ]
    }
   ],
   "source": [
    "model.summary()"
   ]
  },
  {
   "cell_type": "markdown",
   "id": "63a73264",
   "metadata": {},
   "source": [
    "**For deep dive analysis, we turn to `Tensorboard!`**"
   ]
  },
  {
   "cell_type": "code",
   "execution_count": 28,
   "id": "12ad0364",
   "metadata": {},
   "outputs": [
    {
     "data": {
      "text/html": [
       "\n",
       "      <iframe id=\"tensorboard-frame-f4efb02f793e8eea\" width=\"100%\" height=\"800\" frameborder=\"0\">\n",
       "      </iframe>\n",
       "      <script>\n",
       "        (function() {\n",
       "          const frame = document.getElementById(\"tensorboard-frame-f4efb02f793e8eea\");\n",
       "          const url = new URL(\"/\", window.location);\n",
       "          const port = 6006;\n",
       "          if (port) {\n",
       "            url.port = port;\n",
       "          }\n",
       "          frame.src = url;\n",
       "        })();\n",
       "      </script>\n",
       "    "
      ],
      "text/plain": [
       "<IPython.core.display.HTML object>"
      ]
     },
     "metadata": {},
     "output_type": "display_data"
    }
   ],
   "source": [
    "################### excuse me please ####################\n",
    "%tensorboard --logdir logs/fit\n",
    "#########################################################"
   ]
  },
  {
   "cell_type": "code",
   "execution_count": 29,
   "id": "a8d4edad",
   "metadata": {},
   "outputs": [
    {
     "data": {
      "text/plain": [
       "array([[2.1434809e-17, 1.7295242e-14, 4.8600867e-12, 3.5095370e-14,\n",
       "        1.8608914e-15, 9.3020329e-21, 3.6175568e-19, 3.3433611e-25,\n",
       "        1.0000000e+00, 2.3526462e-16],\n",
       "       [0.0000000e+00, 1.0000000e+00, 1.0041833e-35, 3.6791248e-27,\n",
       "        1.4844876e-14, 0.0000000e+00, 1.9456171e-18, 8.1991845e-22,\n",
       "        1.0023406e-16, 5.1089550e-26],\n",
       "       [3.1790297e-34, 4.5813574e-23, 0.0000000e+00, 7.2496703e-17,\n",
       "        2.8211626e-12, 4.5563168e-21, 0.0000000e+00, 3.3795847e-18,\n",
       "        3.4277953e-32, 1.0000000e+00]], dtype=float32)"
      ]
     },
     "execution_count": 29,
     "metadata": {},
     "output_type": "execute_result"
    }
   ],
   "source": [
    "y_prob = model.predict(X_valid)\n",
    "y_prob[:3]"
   ]
  },
  {
   "cell_type": "code",
   "execution_count": 30,
   "id": "f38aa434",
   "metadata": {},
   "outputs": [
    {
     "data": {
      "text/plain": [
       "array([8, 1, 9, 9, 8, 6, 2, 2, 7, 1], dtype=int64)"
      ]
     },
     "execution_count": 30,
     "metadata": {},
     "output_type": "execute_result"
    }
   ],
   "source": [
    "# Convert all of the prediction probabilities into integers\n",
    "y_preds = y_prob.argmax(axis=1)\n",
    "\n",
    "# View the first 10 prediction labels\n",
    "y_preds[:10]"
   ]
  },
  {
   "cell_type": "code",
   "execution_count": 31,
   "id": "77732159",
   "metadata": {},
   "outputs": [
    {
     "data": {
      "text/plain": [
       "array([[795,   0,   1,   0,   0,   1,   4,   1,   6,   8],\n",
       "       [  0, 891,   2,   1,   0,   1,   1,   0,  11,   2],\n",
       "       [  2,   2, 813,   4,   7,   0,   1,   1,   6,  10],\n",
       "       [  1,   0,   3, 914,   0,   4,   0,   1,   6,   8],\n",
       "       [  2,   0,   0,   0, 818,   0,   4,   0,   2,  13],\n",
       "       [  1,   0,   0,  13,   2, 662,   8,   1,   8,   7],\n",
       "       [  3,   0,   0,   0,   0,   1, 770,   0,   3,   8],\n",
       "       [  0,   3,   8,   3,   2,   3,   0, 857,   1,  16],\n",
       "       [  0,   1,   3,   5,   3,   6,   0,   0, 806,  11],\n",
       "       [  2,   1,   0,   8,  16,   3,   0,   2,   5, 801]], dtype=int64)"
      ]
     },
     "execution_count": 31,
     "metadata": {},
     "output_type": "execute_result"
    }
   ],
   "source": [
    "from sklearn.metrics import confusion_matrix\n",
    "confusion_matrix(y_true=y_valid, y_pred=y_preds)"
   ]
  },
  {
   "cell_type": "markdown",
   "id": "c69a94ee",
   "metadata": {},
   "source": [
    "# `Prediction in Testing phase`"
   ]
  },
  {
   "cell_type": "code",
   "execution_count": 32,
   "id": "b740d894",
   "metadata": {},
   "outputs": [],
   "source": [
    "# test already normalized above\n",
    "# Now is the time to reshape it...\n",
    "test = test.reshape(test.shape[0], 28, 28,1)"
   ]
  },
  {
   "cell_type": "code",
   "execution_count": 33,
   "id": "e5d1596c",
   "metadata": {},
   "outputs": [],
   "source": [
    "final = model.predict(test)"
   ]
  },
  {
   "cell_type": "code",
   "execution_count": 34,
   "id": "4eba64f0",
   "metadata": {},
   "outputs": [
    {
     "data": {
      "text/plain": [
       "array([2, 0, 9, ..., 3, 9, 2], dtype=int64)"
      ]
     },
     "execution_count": 34,
     "metadata": {},
     "output_type": "execute_result"
    }
   ],
   "source": [
    "final_pred = final.argmax(axis=1)\n",
    "final_pred"
   ]
  },
  {
   "cell_type": "code",
   "execution_count": 35,
   "id": "9bb018e3",
   "metadata": {},
   "outputs": [
    {
     "data": {
      "text/plain": [
       "(28000,)"
      ]
     },
     "execution_count": 35,
     "metadata": {},
     "output_type": "execute_result"
    }
   ],
   "source": [
    "final_pred.shape"
   ]
  },
  {
   "cell_type": "markdown",
   "id": "984741b6",
   "metadata": {},
   "source": [
    "# checking accuracy of final result"
   ]
  },
  {
   "cell_type": "code",
   "execution_count": 36,
   "id": "8c6d7e51",
   "metadata": {},
   "outputs": [
    {
     "data": {
      "image/png": "[encoded data removed]",
      "text/plain": [
       "<Figure size 1440x576 with 36 Axes>"
      ]
     },
     "metadata": {},
     "output_type": "display_data"
    }
   ],
   "source": [
    "fig = plt.figure(figsize=(20,8))\n",
    "\n",
    "for images in range(36):\n",
    "    fig.add_subplot(6, 6, images+1)\n",
    "    plt.xticks([])\n",
    "    plt.yticks([]) \n",
    "    plt.imshow(test[images], cmap=\"gray\")            # data is on our unseen test dataset\n",
    "    plt.xlabel('Digit: ' + str(final_pred[images]))  # tag along with our final prediction to see how well it got it right.\n",
    "    plt.tight_layout() # to see clear graph\n",
    "plt.show();"
   ]
  },
  {
   "cell_type": "code",
   "execution_count": 37,
   "id": "f9e54b99",
   "metadata": {},
   "outputs": [],
   "source": [
    "# Creating Submission File\n",
    "\n",
    "submissions = pd.read_csv(\"sample_submission.csv\")\n",
    "submissions['Label'] = final_pred\n",
    "submissions.to_csv('submission.csv', index = False)"
   ]
  }
 ],
 "metadata": {
  "kernelspec": {
   "display_name": "Python 3",
   "language": "python",
   "name": "python3"
  },
  "language_info": {
   "codemirror_mode": {
    "name": "ipython",
    "version": 3
   },
   "file_extension": ".py",
   "mimetype": "text/x-python",
   "name": "python",
   "nbconvert_exporter": "python",
   "pygments_lexer": "ipython3",
   "version": "3.8.8"
  }
 },
 "nbformat": 4,
 "nbformat_minor": 5
}
